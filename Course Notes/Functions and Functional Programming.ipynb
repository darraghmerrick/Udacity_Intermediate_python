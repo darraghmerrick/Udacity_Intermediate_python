{
 "cells": [
  {
   "cell_type": "code",
   "execution_count": 1,
   "id": "dd8b604f",
   "metadata": {},
   "outputs": [],
   "source": [
    "#The Dead Parrot\n",
    "#First, if you haven't already, watch the iconic Monty Python sketch:\n",
    "\n",
    "def parrot(voltage, state='a stiff', action='voom', type='Norwegian Blue'):\n",
    "    print(\"-- This parrot wouldn't\", action, end=' ')\n",
    "    print(\"if you put\", voltage, \"volts through it.\")\n",
    "    print(\"-- Lovely plumage, the\", type)\n",
    "    print(\"-- It's\", state, \"!\")\n",
    "    \n",
    "#This function has one required (positional) argument and three optional (keyword) arguments.\n",
    "#Let's take a more detailed look at valid and invalid ways to call this function."
   ]
  },
  {
   "cell_type": "code",
   "execution_count": 3,
   "id": "301b7756",
   "metadata": {},
   "outputs": [
    {
     "name": "stdout",
     "output_type": "stream",
     "text": [
      "-- This parrot wouldn't voom if you put 1000 volts through it.\n",
      "-- Lovely plumage, the Norwegian Blue\n",
      "-- It's a stiff !\n",
      "-- This parrot wouldn't voom if you put 1000 volts through it.\n",
      "-- Lovely plumage, the Norwegian Blue\n",
      "-- It's a stiff !\n",
      "-- This parrot wouldn't VOOOOOM if you put 1000000 volts through it.\n",
      "-- Lovely plumage, the Norwegian Blue\n",
      "-- It's a stiff !\n",
      "-- This parrot wouldn't VOOOOOM if you put 1000000 volts through it.\n",
      "-- Lovely plumage, the Norwegian Blue\n",
      "-- It's a stiff !\n",
      "-- This parrot wouldn't jump if you put a million volts through it.\n",
      "-- Lovely plumage, the Norwegian Blue\n",
      "-- It's bereft of life !\n",
      "-- This parrot wouldn't voom if you put a thousand volts through it.\n",
      "-- Lovely plumage, the Norwegian Blue\n",
      "-- It's pushing up the daisies !\n"
     ]
    }
   ],
   "source": [
    "#Valid Calls\n",
    "#def parrot(voltage, state='...', action='...', type='...')\n",
    "\n",
    "# 1 positional argument\n",
    "parrot(1000)\n",
    "\n",
    "# 1 keyword argument\n",
    "parrot(voltage=1000)\n",
    "\n",
    "# 2 keyword arguments\n",
    "parrot(voltage=1000000, action='VOOOOOM')\n",
    "\n",
    "# 2 keyword arguments\n",
    "parrot(action='VOOOOOM', voltage=1000000)\n",
    "\n",
    "# 3 positional arguments\n",
    "parrot('a million', 'bereft of life', 'jump')\n",
    "\n",
    "# 1 positional, 1 keyword\n",
    "parrot('a thousand', state='pushing up the daisies')"
   ]
  },
  {
   "cell_type": "code",
   "execution_count": 4,
   "id": "d63d28b4",
   "metadata": {},
   "outputs": [
    {
     "ename": "SyntaxError",
     "evalue": "positional argument follows keyword argument (294246308.py, line 8)",
     "output_type": "error",
     "traceback": [
      "\u001b[0;36m  File \u001b[0;32m\"/tmp/ipykernel_339911/294246308.py\"\u001b[0;36m, line \u001b[0;32m8\u001b[0m\n\u001b[0;31m    parrot(voltage=5.0, 'dead')\u001b[0m\n\u001b[0m                        ^\u001b[0m\n\u001b[0;31mSyntaxError\u001b[0m\u001b[0;31m:\u001b[0m positional argument follows keyword argument\n"
     ]
    }
   ],
   "source": [
    "#Invalid Calls\n",
    "#def parrot(voltage, state='...', action='...', type='...')\n",
    "\n",
    "# Missing a required argument.\n",
    "parrot()\n",
    "\n",
    "# Non-keyword argument after a keyword argument.\n",
    "parrot(voltage=5.0, 'dead')\n",
    "\n",
    "# Duplicate value for the same argument.\n",
    "parrot(110, voltage=220)\n",
    "\n",
    "# Unknown keyword argument.\n",
    "parrot(actor='John Cleese')"
   ]
  },
  {
   "cell_type": "markdown",
   "id": "1fc90e61",
   "metadata": {},
   "source": [
    "Takeaways\n",
    "One important consequence of this design is that, in Python, an argument can be supplied either (1) by position or (2) by keyword. If it looks like name=xxx, then it's a keyword-supplied argument. Usually, we'll supply arguments for positional parameters by position and keyword parameters by keyword.\n",
    "\n",
    "Let's take a look at another example:\n",
    "\n",
    "Here's the signature of a Python function ask_yn, which might repeatedly ask the user for an answer to a yes/no question:\n",
    "\n"
   ]
  },
  {
   "cell_type": "code",
   "execution_count": 5,
   "id": "3148406f",
   "metadata": {},
   "outputs": [],
   "source": [
    "def ask_yn(prompt, retries=4, complaint='Enter Y/N!'):\n",
    "    for i in range(retries):\n",
    "        ok = input(prompt).strip()\n",
    "        if ok in ('Y', 'y'):\n",
    "            return True\n",
    "        if ok in ('N', 'n'):\n",
    "            return False\n",
    "        print(complaint)\n",
    "    return False"
   ]
  },
  {
   "cell_type": "markdown",
   "id": "3a6ff965",
   "metadata": {},
   "source": [
    "In this function definition: the prompt parameter is required; the retries parameter is optional and defaults to the integer value 4, and the complaint parameter is optional and defaults to the value \"Try again!\". This function might be implemented as follows:"
   ]
  },
  {
   "cell_type": "code",
   "execution_count": 6,
   "id": "d08b9d90",
   "metadata": {},
   "outputs": [
    {
     "name": "stdout",
     "output_type": "stream",
     "text": [
      "Really quit?n\n",
      "OK to overwrite the file?n\n",
      "Update status?n\n",
      "Send text?n\n",
      "Do you like raindrops on roses?roses\n",
      "Enter Y/N!\n",
      "Do you like raindrops on roses?y\n",
      "How about whiskers on kittens?y\n",
      "Any love for bright copper kettles?y\n",
      "Would you like warm woolen mittens?n\n"
     ]
    },
    {
     "data": {
      "text/plain": [
       "False"
      ]
     },
     "execution_count": 6,
     "metadata": {},
     "output_type": "execute_result"
    }
   ],
   "source": [
    "#This function can be called in a number of ways:\n",
    "\n",
    "# Call with only the mandatory argument\n",
    "ask_yn('Really quit?')\n",
    "\n",
    "# Call with one keyword argument\n",
    "ask_yn('OK to overwrite the file?', retries=2)\n",
    "\n",
    "# Call with one keyword argument - in any order!\n",
    "ask_yn('Update status?', complaint='Just Y/N')\n",
    "\n",
    "# Call with all of the keyword arguments\n",
    "ask_yn('Send text?', retries=2, complaint='Y/N please!')\n",
    "\n",
    "# These can provide variants of a simple idea.\n",
    "ask_yn(\"Do you like raindrops on roses?\")\n",
    "ask_yn(\"How about whiskers on kittens?\", retries=10)\n",
    "ask_yn(\"Any love for bright copper kettles?\", complaint=\"Yes or no :)\")\n",
    "ask_yn(\"Would you like warm woolen mittens?\", retries=10, complaint=\"A yes or no shall suffice.\")"
   ]
  },
  {
   "cell_type": "markdown",
   "id": "1591e11e",
   "metadata": {},
   "source": [
    "### Examples within Python\n",
    "Several built-ins to the Python language and libraries use keyword arguments.\n",
    "\n",
    "print(..., sep=' ', end='\\n', file=sys.stdout, flush=False)\n",
    "range(start, stop, step=1)\n",
    "enumerate(iter, start=0)\n",
    "int(x, base=10)\n",
    "pow(x, y, z=None)\n",
    "seq.sort(*, key=None, reverse=None)"
   ]
  },
  {
   "cell_type": "markdown",
   "id": "cbd4ea58",
   "metadata": {},
   "source": [
    "This is sometimes taken to the extreme! The subprocess.Popen constructor, which opens a connection to a subprocess, has just one required parameter - args - but it also has a whole lot of optional arguments!\n",
    "\n",
    "subprocess.Popen(args, bufsize=-1, executable=None, stdin=None, stdout=None, stderr=None, preexec_fn=None, close_fds=True, shell=False, cwd=None, env=None, universal_newlines=None, startupinfo=None, creationflags=0, restore_signals=True, start_new_session=False, pass_fds=(), *, group=None, extra_groups=None, user=None, umask=-1, encoding=None, errors=None, text=None)\n",
    "Even though you most likely don't recognize or understand what is meant each of the parameters, it's clear that there are a lot of optional arguments in this signature!\n",
    "\n",
    "New Terms\n",
    "Term\tDefinition\n",
    "Argument\tAn object (or a name referring to an object) that is supplied to a function when the function is invoked.\n",
    "Keyword Argument\tAn argument that is supplied to a function call by keyword, not by position.\n",
    "Optional Parameter\tA category of parameter defined by a function signature that provides a default value for a parameter name.\n",
    "Parameter\tA name defined in a function signature that will be bound to a value when the function is invoked.\n",
    "Positionally-Supplied Argument\tAn argument that is supplied to a function call by position, not by keyword.\n",
    "Required Parameter\tA category of parameter defined by a function signature that does not provide any default value, and must receive a value from a corresponding supplied argument.\n"
   ]
  },
  {
   "cell_type": "markdown",
   "id": "720798a1",
   "metadata": {},
   "source": [
    "Variadic Arguments\n",
    "\n",
    "A parameter of the form *name (such as*args) in a function signature introduces a variadic positional parameter. This parameter will capture excess positionally-supplied arguments into a tuple named the same thing, such as args.\n",
    "\n",
    "Why would you ever do something like this? Usually, variadic parameters are useful when you're either:\n",
    "\n",
    "Defining a function with a variable number of positional arguments\n",
    "Capturing an unknown collection of arguments, in order to forward them to another handler, like a superclass, a decorator, or other fancy objects.\n",
    "Fortunately, variadic parameters aren't as foreign as they might seem. We've already been using them throughout this course!\n",
    "\n",
    "The print function in Python takes in a variable number of arguments. It's signature is (something like)\n",
    "\n",
    "def print(*objects, sep=' ', end='\\n', file=sys.stdout, flush=False):\n",
    "In the above signature, the *objects is the variadic positional parameter. The other parameters are keyword parameters. When a keyword parameter follows a variadic position parameter, it's sometimes called a keyword-only argument, because the only way to supply an explicit value is with a keyword. If you tried to supply the value for sep by position, the excess positionally-supplied argument would be captured in the objects tuple of excess positional arguments.\n",
    "\n",
    "To get a feel for variadic positional parameters, consider the following function and its various invocations:\n",
    "\n",
    "def print_my_arguments(a, *b, c=1):\n",
    "    print(f\"a={a}, b={b}, c={c}\")\n",
    "\n",
    "print_my_arguments(2)                   # a=2, b=(), c=1\n",
    "print_my_arguments(2, 7)                # a=2, b=(7,), c=1\n",
    "print_my_arguments(2, 7, 1)             # a=2, b=(7, 1), c=1\n",
    "print_my_arguments(2, 7, 1, 8)          # a=2, b=(7, 1, 8), c=1\n",
    "print_my_arguments(2, 7, 1, 8, 2)       # a=2, b=(7, 1, 8, 2), c=1\n",
    "print_my_arguments(2, 7, 1, 8, 2, c=8)  # a=2, b=(7, 1, 8, 2), c=8"
   ]
  },
  {
   "cell_type": "code",
   "execution_count": 12,
   "id": "e092406c",
   "metadata": {},
   "outputs": [
    {
     "name": "stdout",
     "output_type": "stream",
     "text": [
      "15\n",
      "24\n",
      "120\n",
      "1\n",
      "105\n",
      "300\n"
     ]
    }
   ],
   "source": [
    "#We'll use this new concept to write a function called product, which multiplies together any number of positionally-supplied arguments.\n",
    "\n",
    "def product(*nums, start=1):\n",
    "    running_product = start\n",
    "    for number in nums:\n",
    "        running_product *= number\n",
    "    return running_product\n",
    "\n",
    "#This function has one variadic position parameter, named nums, and one keyword-only argument, named start.\n",
    "\n",
    "#We can call this function with a variable number of arguments.\n",
    "\n",
    "print(product(3, 5))  # => 15\n",
    "print(product(3, 4, 2))  # => 24\n",
    "print(product(3, 4, 2, 5))  # => 120\n",
    "print(product())  # => 1\n",
    "print(product(7, start=15))  # => 105\n",
    "print(product(5, 6, start=10))  # => 300"
   ]
  },
  {
   "cell_type": "markdown",
   "id": "a7c7145c",
   "metadata": {},
   "source": [
    "This works well if we have several numbers that we want to directly insert as the arguments of a function call. But what happens if we have these would-be arguments bundled up inside of a collection instead? Suppose that we have a tuple of prime numbers. Can we \"variadically unpack\" this collection into a variable number of positionally-supplied arguments? Yes.\n",
    "\n",
    "primes = (2, 3, 5, 7, 11)\n",
    "product(*primes)  # Does the same thing as `product(2, 3, 5, 7, 11)`\n",
    "# => 2310\n",
    "The syntax *iterable at a call site consumes the iterable's values into a variable number of positionally-supplied arguments. This means, for example, that a list or a tuple can be unpacked into a function's arguments.\n",
    "\n",
    "New Terms\n",
    "Term\tDefinition\n",
    "Keyword-Only Parameters\tA subcategory of optional parameter defined by a function signature that can only be overridden by an argument supplied by keyword.\n",
    "Variadic Positional Argument Unpacking\tA mechanism to unpack an iterable with the syntax *iterable into positional arguments supplied when a function is invoked.\n",
    "Variadic Positional Parameter Collection\tA category of parameter like *args that captures a variable number of excess positional arguments in a tuple.\n"
   ]
  },
  {
   "cell_type": "markdown",
   "id": "f6284333",
   "metadata": {},
   "source": [
    "## Variadic Keyword Parameters\n",
    "\n",
    "A parameter of the form **name (such as**kwargs) in a function signature introduces a variadic keyword parameter. This parameter will capture excess keyword-supplied arguments into a dictionary named the same thing, such as kwargs.\n",
    "\n",
    "Why would you ever do something like this? Usually, variadic keyword parameters are useful when you're either:\n",
    "\n",
    "Allowing arbitrary named parameters for special configuration\n",
    "As with variadic positional parameters, capturing an unknown collection of arguments, in order to forward them to another handler, like a superclass, a decorator, or other fancy objects.\n",
    "Variadic keyword parameters are a bit less common, but still appear throughout Python. For example, the str.format method has the following signature:\n",
    "\n",
    "str.format(*args, **kwargs)\n",
    "Not only does this method have a variadic keyword parameter (**kwargs), it also has a variadic position parameter (*args)! This means that this method can receive any number of positionally-supplied arguments and any number of keyword-supplied arguments.\n",
    "\n",
    "To get a feel for variadic keyword parameters, consider the following function and its various invocations:"
   ]
  },
  {
   "cell_type": "code",
   "execution_count": 13,
   "id": "c68d15f1",
   "metadata": {},
   "outputs": [
    {
     "name": "stdout",
     "output_type": "stream",
     "text": [
      "a=2, b=1, c={}\n",
      "a=2, b=1, c={'x': 7}\n",
      "a=2, b=1, c={'x': 7, 'y': 1}\n",
      "a=2, b=1, c={'x': 7, 'y': 1, 'z': 8}\n",
      "a=2, b=2, c={'x': 7, 'y': 1, 'z': 8}\n",
      "a=2, b=2, c={'x': 7, 'y': 1, 'z': 8}\n"
     ]
    }
   ],
   "source": [
    "def print_my_arguments(a, b=1, **c):\n",
    "    print(f\"a={a}, b={b}, c={c}\")\n",
    "\n",
    "print_my_arguments(2)                      # a=2, b=1, c={}\n",
    "print_my_arguments(2, x=7)                 # a=2, b=1, c={'x': 7}\n",
    "print_my_arguments(2, x=7, y=1)            # a=2, b=1, c={'x': 7, 'y': 1}\n",
    "print_my_arguments(2, x=7, y=1, z=8)       # a=2, b=1, c={'x': 7, 'y': 1, 'z': 8}\n",
    "print_my_arguments(2, x=7, y=1, z=8, b=2)  # a=2, b=2, c={'x': 7, 'y': 1, 'z': 8}\n",
    "print_my_arguments(2, x=7, b=2, y=1, z=8)  # a=2, b=2, c={'x': 7, 'y': 1, 'z': 8}\n",
    "\n",
    "#Note that c is our variadic keyword parameter, \n",
    "#and it contains a dictionary of the excess positionally-supplied arguments."
   ]
  },
  {
   "cell_type": "code",
   "execution_count": null,
   "id": "75d4f579",
   "metadata": {},
   "outputs": [],
   "source": [
    "#We'll use this new concept to write a function called authorize, \n",
    "#which attributes a quote to an author, along with some extra information.\n",
    "\n",
    "#We'll want to be able to use the function in the following ways:"
   ]
  },
  {
   "cell_type": "code",
   "execution_count": 14,
   "id": "cfef3b6f",
   "metadata": {},
   "outputs": [],
   "source": [
    "def authorize(quote, **speaker_info):\n",
    "    print(\">\", quote)\n",
    "    print(\"-\" * (len(quote) + 2))\n",
    "    for key, value in speaker_info.items():\n",
    "        print(key, value, sep=': ')"
   ]
  },
  {
   "cell_type": "code",
   "execution_count": 15,
   "id": "0799a112",
   "metadata": {},
   "outputs": [
    {
     "name": "stdout",
     "output_type": "stream",
     "text": [
      "> If music be the food of love, play on.\n",
      "----------------------------------------\n",
      "playwright: Shakespeare\n",
      "act: 1\n",
      "scene: 1\n",
      "speaker: Duke Orsino\n",
      "> O partigiano, portami via.\n",
      "----------------------------\n",
      "canzone: Bella Ciao\n",
      "lingua: Italiano\n"
     ]
    }
   ],
   "source": [
    "authorize(\n",
    "    \"If music be the food of love, play on.\",\n",
    "    playwright=\"Shakespeare\",\n",
    "    act=1,\n",
    "    scene=1,\n",
    "    speaker=\"Duke Orsino\"\n",
    ")\n",
    "# > If music be the food of love, play on.\n",
    "# ----------------------------------------\n",
    "# playwright: Shakespeare\n",
    "# act: 1\n",
    "# scene: 1\n",
    "# speaker: Duke Orsino\n",
    "authorize(\n",
    "    \"O partigiano, portami via.\",\n",
    "    canzone=\"Bella Ciao\",\n",
    "    lingua=\"Italiano\",\n",
    ")\n",
    "# > O partigiano, portami via.\n",
    "# ----------------------------\n",
    "# canzone: Bella Ciao\n",
    "# lingua: Italiano\n"
   ]
  },
  {
   "cell_type": "markdown",
   "id": "a4cc7ac5",
   "metadata": {},
   "source": [
    "This function captures a variable number of excess keyword-supplied arguments into a dictionary named speaker_info. It prints the quote, an underline, and then any key-value pairs from our dictionary. We've even made use of the fact that print takes a variable number of positionally-supplied arguments, and overridden the keyword-only parameter sep.\n",
    "\n",
    "As before, this works well if have several name-value associations that we want to directly insert as the arguments of a function call. But what happens if we have these would-be keyword arguments bundled up inside of a mapping instead? Suppose that we have a dictionary of information. Can we \"variadically unpack\" this collection into a variable number of keyword-supplied arguments? Yes.\n",
    "\n"
   ]
  },
  {
   "cell_type": "code",
   "execution_count": 16,
   "id": "c88be12c",
   "metadata": {},
   "outputs": [
    {
     "name": "stdout",
     "output_type": "stream",
     "text": [
      "> Shall I compare thee to a summer's day\n",
      "----------------------------------------\n",
      "sonnet: 18\n",
      "line: 1\n",
      "author: Shakespeare\n"
     ]
    }
   ],
   "source": [
    "info = {\n",
    "    'sonnet': 18,\n",
    "    'line': 1,\n",
    "    'author': \"Shakespeare\"\n",
    "}\n",
    "authorize(\"Shall I compare thee to a summer's day\", **info)  \n",
    "# Does the same thing as authorize(\"Shall I compare thee to a summer's day\", sonnet=18, line=1, author='Shakespeare')\n",
    "# > Shall I compare thee to a summer's day\n",
    "# ----------------------------------------\n",
    "# sonnet: 18\n",
    "# line: 1\n",
    "# author: Shakespeare"
   ]
  },
  {
   "cell_type": "code",
   "execution_count": null,
   "id": "6581afba",
   "metadata": {},
   "outputs": [],
   "source": []
  }
 ],
 "metadata": {
  "kernelspec": {
   "display_name": "Python 3 (ipykernel)",
   "language": "python",
   "name": "python3"
  },
  "language_info": {
   "codemirror_mode": {
    "name": "ipython",
    "version": 3
   },
   "file_extension": ".py",
   "mimetype": "text/x-python",
   "name": "python",
   "nbconvert_exporter": "python",
   "pygments_lexer": "ipython3",
   "version": "3.8.8"
  }
 },
 "nbformat": 4,
 "nbformat_minor": 5
}
