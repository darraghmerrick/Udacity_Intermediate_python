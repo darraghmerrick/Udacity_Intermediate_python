{
 "cells": [
  {
   "cell_type": "code",
   "execution_count": 1,
   "id": "dd8b604f",
   "metadata": {},
   "outputs": [],
   "source": [
    "#The Dead Parrot\n",
    "#First, if you haven't already, watch the iconic Monty Python sketch:\n",
    "\n",
    "def parrot(voltage, state='a stiff', action='voom', type='Norwegian Blue'):\n",
    "    print(\"-- This parrot wouldn't\", action, end=' ')\n",
    "    print(\"if you put\", voltage, \"volts through it.\")\n",
    "    print(\"-- Lovely plumage, the\", type)\n",
    "    print(\"-- It's\", state, \"!\")\n",
    "    \n",
    "#This function has one required (positional) argument and three optional (keyword) arguments.\n",
    "#Let's take a more detailed look at valid and invalid ways to call this function."
   ]
  },
  {
   "cell_type": "code",
   "execution_count": 2,
   "id": "301b7756",
   "metadata": {},
   "outputs": [
    {
     "name": "stdout",
     "output_type": "stream",
     "text": [
      "-- This parrot wouldn't voom if you put 1000 volts through it.\n",
      "-- Lovely plumage, the Norwegian Blue\n",
      "-- It's a stiff !\n",
      "-- This parrot wouldn't voom if you put 1000 volts through it.\n",
      "-- Lovely plumage, the Norwegian Blue\n",
      "-- It's a stiff !\n",
      "-- This parrot wouldn't VOOOOOM if you put 1000000 volts through it.\n",
      "-- Lovely plumage, the Norwegian Blue\n",
      "-- It's a stiff !\n",
      "-- This parrot wouldn't VOOOOOM if you put 1000000 volts through it.\n",
      "-- Lovely plumage, the Norwegian Blue\n",
      "-- It's a stiff !\n",
      "-- This parrot wouldn't jump if you put a million volts through it.\n",
      "-- Lovely plumage, the Norwegian Blue\n",
      "-- It's bereft of life !\n",
      "-- This parrot wouldn't voom if you put a thousand volts through it.\n",
      "-- Lovely plumage, the Norwegian Blue\n",
      "-- It's pushing up the daisies !\n"
     ]
    }
   ],
   "source": [
    "#Valid Calls\n",
    "#def parrot(voltage, state='...', action='...', type='...')\n",
    "\n",
    "# 1 positional argument\n",
    "parrot(1000)\n",
    "\n",
    "# 1 keyword argument\n",
    "parrot(voltage=1000)\n",
    "\n",
    "# 2 keyword arguments\n",
    "parrot(voltage=1000000, action='VOOOOOM')\n",
    "\n",
    "# 2 keyword arguments\n",
    "parrot(action='VOOOOOM', voltage=1000000)\n",
    "\n",
    "# 3 positional arguments\n",
    "parrot('a million', 'bereft of life', 'jump')\n",
    "\n",
    "# 1 positional, 1 keyword\n",
    "parrot('a thousand', state='pushing up the daisies')"
   ]
  },
  {
   "cell_type": "code",
   "execution_count": 3,
   "id": "d63d28b4",
   "metadata": {},
   "outputs": [
    {
     "ename": "SyntaxError",
     "evalue": "positional argument follows keyword argument (294246308.py, line 8)",
     "output_type": "error",
     "traceback": [
      "\u001b[0;36m  File \u001b[0;32m\"/tmp/ipykernel_1128148/294246308.py\"\u001b[0;36m, line \u001b[0;32m8\u001b[0m\n\u001b[0;31m    parrot(voltage=5.0, 'dead')\u001b[0m\n\u001b[0m                        ^\u001b[0m\n\u001b[0;31mSyntaxError\u001b[0m\u001b[0;31m:\u001b[0m positional argument follows keyword argument\n"
     ]
    }
   ],
   "source": [
    "#Invalid Calls\n",
    "#def parrot(voltage, state='...', action='...', type='...')\n",
    "\n",
    "# Missing a required argument.\n",
    "parrot()\n",
    "\n",
    "# Non-keyword argument after a keyword argument.\n",
    "parrot(voltage=5.0, 'dead')\n",
    "\n",
    "# Duplicate value for the same argument.\n",
    "parrot(110, voltage=220)\n",
    "\n",
    "# Unknown keyword argument.\n",
    "parrot(actor='John Cleese')"
   ]
  },
  {
   "cell_type": "markdown",
   "id": "1fc90e61",
   "metadata": {},
   "source": [
    "Takeaways\n",
    "One important consequence of this design is that, in Python, an argument can be supplied either (1) by position or (2) by keyword. If it looks like name=xxx, then it's a keyword-supplied argument. Usually, we'll supply arguments for positional parameters by position and keyword parameters by keyword.\n",
    "\n",
    "Let's take a look at another example:\n",
    "\n",
    "Here's the signature of a Python function ask_yn, which might repeatedly ask the user for an answer to a yes/no question:\n",
    "\n"
   ]
  },
  {
   "cell_type": "code",
   "execution_count": null,
   "id": "3148406f",
   "metadata": {},
   "outputs": [],
   "source": [
    "def ask_yn(prompt, retries=4, complaint='Enter Y/N!'):\n",
    "    for i in range(retries):\n",
    "        ok = input(prompt).strip()\n",
    "        if ok in ('Y', 'y'):\n",
    "            return True\n",
    "        if ok in ('N', 'n'):\n",
    "            return False\n",
    "        print(complaint)\n",
    "    return False"
   ]
  },
  {
   "cell_type": "markdown",
   "id": "3a6ff965",
   "metadata": {},
   "source": [
    "In this function definition: the prompt parameter is required; the retries parameter is optional and defaults to the integer value 4, and the complaint parameter is optional and defaults to the value \"Try again!\". This function might be implemented as follows:"
   ]
  },
  {
   "cell_type": "code",
   "execution_count": null,
   "id": "d08b9d90",
   "metadata": {},
   "outputs": [
    {
     "name": "stdout",
     "output_type": "stream",
     "text": [
      "Really quit?n\n",
      "OK to overwrite the file?n\n",
      "Update status?n\n",
      "Send text?n\n",
      "Do you like raindrops on roses?roses\n",
      "Enter Y/N!\n",
      "Do you like raindrops on roses?y\n",
      "How about whiskers on kittens?y\n",
      "Any love for bright copper kettles?y\n",
      "Would you like warm woolen mittens?n\n"
     ]
    },
    {
     "data": {
      "text/plain": [
       "False"
      ]
     },
     "execution_count": 6,
     "metadata": {},
     "output_type": "execute_result"
    }
   ],
   "source": [
    "#This function can be called in a number of ways:\n",
    "\n",
    "# Call with only the mandatory argument\n",
    "ask_yn('Really quit?')\n",
    "\n",
    "# Call with one keyword argument\n",
    "ask_yn('OK to overwrite the file?', retries=2)\n",
    "\n",
    "# Call with one keyword argument - in any order!\n",
    "ask_yn('Update status?', complaint='Just Y/N')\n",
    "\n",
    "# Call with all of the keyword arguments\n",
    "ask_yn('Send text?', retries=2, complaint='Y/N please!')\n",
    "\n",
    "# These can provide variants of a simple idea.\n",
    "ask_yn(\"Do you like raindrops on roses?\")\n",
    "ask_yn(\"How about whiskers on kittens?\", retries=10)\n",
    "ask_yn(\"Any love for bright copper kettles?\", complaint=\"Yes or no :)\")\n",
    "ask_yn(\"Would you like warm woolen mittens?\", retries=10, complaint=\"A yes or no shall suffice.\")"
   ]
  },
  {
   "cell_type": "markdown",
   "id": "1591e11e",
   "metadata": {},
   "source": [
    "### Examples within Python\n",
    "Several built-ins to the Python language and libraries use keyword arguments.\n",
    "\n",
    "print(..., sep=' ', end='\\n', file=sys.stdout, flush=False)\n",
    "range(start, stop, step=1)\n",
    "enumerate(iter, start=0)\n",
    "int(x, base=10)\n",
    "pow(x, y, z=None)\n",
    "seq.sort(*, key=None, reverse=None)"
   ]
  },
  {
   "cell_type": "markdown",
   "id": "cbd4ea58",
   "metadata": {},
   "source": [
    "This is sometimes taken to the extreme! The subprocess.Popen constructor, which opens a connection to a subprocess, has just one required parameter - args - but it also has a whole lot of optional arguments!\n",
    "\n",
    "subprocess.Popen(args, bufsize=-1, executable=None, stdin=None, stdout=None, stderr=None, preexec_fn=None, close_fds=True, shell=False, cwd=None, env=None, universal_newlines=None, startupinfo=None, creationflags=0, restore_signals=True, start_new_session=False, pass_fds=(), *, group=None, extra_groups=None, user=None, umask=-1, encoding=None, errors=None, text=None)\n",
    "Even though you most likely don't recognize or understand what is meant each of the parameters, it's clear that there are a lot of optional arguments in this signature!\n",
    "\n",
    "New Terms\n",
    "Term\tDefinition\n",
    "Argument\tAn object (or a name referring to an object) that is supplied to a function when the function is invoked.\n",
    "Keyword Argument\tAn argument that is supplied to a function call by keyword, not by position.\n",
    "Optional Parameter\tA category of parameter defined by a function signature that provides a default value for a parameter name.\n",
    "Parameter\tA name defined in a function signature that will be bound to a value when the function is invoked.\n",
    "Positionally-Supplied Argument\tAn argument that is supplied to a function call by position, not by keyword.\n",
    "Required Parameter\tA category of parameter defined by a function signature that does not provide any default value, and must receive a value from a corresponding supplied argument.\n"
   ]
  },
  {
   "cell_type": "markdown",
   "id": "720798a1",
   "metadata": {},
   "source": [
    "Variadic Arguments\n",
    "\n",
    "A parameter of the form *name (such as*args) in a function signature introduces a variadic positional parameter. This parameter will capture excess positionally-supplied arguments into a tuple named the same thing, such as args.\n",
    "\n",
    "Why would you ever do something like this? Usually, variadic parameters are useful when you're either:\n",
    "\n",
    "Defining a function with a variable number of positional arguments\n",
    "Capturing an unknown collection of arguments, in order to forward them to another handler, like a superclass, a decorator, or other fancy objects.\n",
    "Fortunately, variadic parameters aren't as foreign as they might seem. We've already been using them throughout this course!\n",
    "\n",
    "The print function in Python takes in a variable number of arguments. It's signature is (something like)\n",
    "\n",
    "def print(*objects, sep=' ', end='\\n', file=sys.stdout, flush=False):\n",
    "In the above signature, the *objects is the variadic positional parameter. The other parameters are keyword parameters. When a keyword parameter follows a variadic position parameter, it's sometimes called a keyword-only argument, because the only way to supply an explicit value is with a keyword. If you tried to supply the value for sep by position, the excess positionally-supplied argument would be captured in the objects tuple of excess positional arguments.\n",
    "\n",
    "To get a feel for variadic positional parameters, consider the following function and its various invocations:\n",
    "\n",
    "def print_my_arguments(a, *b, c=1):\n",
    "    print(f\"a={a}, b={b}, c={c}\")\n",
    "\n",
    "print_my_arguments(2)                   # a=2, b=(), c=1\n",
    "print_my_arguments(2, 7)                # a=2, b=(7,), c=1\n",
    "print_my_arguments(2, 7, 1)             # a=2, b=(7, 1), c=1\n",
    "print_my_arguments(2, 7, 1, 8)          # a=2, b=(7, 1, 8), c=1\n",
    "print_my_arguments(2, 7, 1, 8, 2)       # a=2, b=(7, 1, 8, 2), c=1\n",
    "print_my_arguments(2, 7, 1, 8, 2, c=8)  # a=2, b=(7, 1, 8, 2), c=8"
   ]
  },
  {
   "cell_type": "code",
   "execution_count": null,
   "id": "e092406c",
   "metadata": {},
   "outputs": [
    {
     "name": "stdout",
     "output_type": "stream",
     "text": [
      "15\n",
      "24\n",
      "120\n",
      "1\n",
      "105\n",
      "300\n"
     ]
    }
   ],
   "source": [
    "#We'll use this new concept to write a function called product, which multiplies together any number of positionally-supplied arguments.\n",
    "\n",
    "def product(*nums, start=1):\n",
    "    running_product = start\n",
    "    for number in nums:\n",
    "        running_product *= number\n",
    "    return running_product\n",
    "\n",
    "#This function has one variadic position parameter, named nums, and one keyword-only argument, named start.\n",
    "\n",
    "#We can call this function with a variable number of arguments.\n",
    "\n",
    "print(product(3, 5))  # => 15\n",
    "print(product(3, 4, 2))  # => 24\n",
    "print(product(3, 4, 2, 5))  # => 120\n",
    "print(product())  # => 1\n",
    "print(product(7, start=15))  # => 105\n",
    "print(product(5, 6, start=10))  # => 300"
   ]
  },
  {
   "cell_type": "markdown",
   "id": "a7c7145c",
   "metadata": {},
   "source": [
    "This works well if we have several numbers that we want to directly insert as the arguments of a function call. But what happens if we have these would-be arguments bundled up inside of a collection instead? Suppose that we have a tuple of prime numbers. Can we \"variadically unpack\" this collection into a variable number of positionally-supplied arguments? Yes.\n",
    "\n",
    "primes = (2, 3, 5, 7, 11)\n",
    "product(*primes)  # Does the same thing as `product(2, 3, 5, 7, 11)`\n",
    "# => 2310\n",
    "The syntax *iterable at a call site consumes the iterable's values into a variable number of positionally-supplied arguments. This means, for example, that a list or a tuple can be unpacked into a function's arguments.\n",
    "\n",
    "New Terms\n",
    "Term\tDefinition\n",
    "Keyword-Only Parameters\tA subcategory of optional parameter defined by a function signature that can only be overridden by an argument supplied by keyword.\n",
    "Variadic Positional Argument Unpacking\tA mechanism to unpack an iterable with the syntax *iterable into positional arguments supplied when a function is invoked.\n",
    "Variadic Positional Parameter Collection\tA category of parameter like *args that captures a variable number of excess positional arguments in a tuple.\n"
   ]
  },
  {
   "cell_type": "markdown",
   "id": "f6284333",
   "metadata": {},
   "source": [
    "## Variadic Keyword Parameters\n",
    "\n",
    "A parameter of the form **name (such as**kwargs) in a function signature introduces a variadic keyword parameter. This parameter will capture excess keyword-supplied arguments into a dictionary named the same thing, such as kwargs.\n",
    "\n",
    "Why would you ever do something like this? Usually, variadic keyword parameters are useful when you're either:\n",
    "\n",
    "Allowing arbitrary named parameters for special configuration\n",
    "As with variadic positional parameters, capturing an unknown collection of arguments, in order to forward them to another handler, like a superclass, a decorator, or other fancy objects.\n",
    "Variadic keyword parameters are a bit less common, but still appear throughout Python. For example, the str.format method has the following signature:\n",
    "\n",
    "str.format(*args, **kwargs)\n",
    "Not only does this method have a variadic keyword parameter (**kwargs), it also has a variadic position parameter (*args)! This means that this method can receive any number of positionally-supplied arguments and any number of keyword-supplied arguments.\n",
    "\n",
    "To get a feel for variadic keyword parameters, consider the following function and its various invocations:"
   ]
  },
  {
   "cell_type": "code",
   "execution_count": null,
   "id": "c68d15f1",
   "metadata": {},
   "outputs": [
    {
     "name": "stdout",
     "output_type": "stream",
     "text": [
      "a=2, b=1, c={}\n",
      "a=2, b=1, c={'x': 7}\n",
      "a=2, b=1, c={'x': 7, 'y': 1}\n",
      "a=2, b=1, c={'x': 7, 'y': 1, 'z': 8}\n",
      "a=2, b=2, c={'x': 7, 'y': 1, 'z': 8}\n",
      "a=2, b=2, c={'x': 7, 'y': 1, 'z': 8}\n"
     ]
    }
   ],
   "source": [
    "def print_my_arguments(a, b=1, **c):\n",
    "    print(f\"a={a}, b={b}, c={c}\")\n",
    "\n",
    "print_my_arguments(2)                      # a=2, b=1, c={}\n",
    "print_my_arguments(2, x=7)                 # a=2, b=1, c={'x': 7}\n",
    "print_my_arguments(2, x=7, y=1)            # a=2, b=1, c={'x': 7, 'y': 1}\n",
    "print_my_arguments(2, x=7, y=1, z=8)       # a=2, b=1, c={'x': 7, 'y': 1, 'z': 8}\n",
    "print_my_arguments(2, x=7, y=1, z=8, b=2)  # a=2, b=2, c={'x': 7, 'y': 1, 'z': 8}\n",
    "print_my_arguments(2, x=7, b=2, y=1, z=8)  # a=2, b=2, c={'x': 7, 'y': 1, 'z': 8}\n",
    "\n",
    "#Note that c is our variadic keyword parameter, \n",
    "#and it contains a dictionary of the excess positionally-supplied arguments."
   ]
  },
  {
   "cell_type": "code",
   "execution_count": null,
   "id": "75d4f579",
   "metadata": {},
   "outputs": [],
   "source": [
    "#We'll use this new concept to write a function called authorize, \n",
    "#which attributes a quote to an author, along with some extra information.\n",
    "\n",
    "#We'll want to be able to use the function in the following ways:"
   ]
  },
  {
   "cell_type": "code",
   "execution_count": null,
   "id": "cfef3b6f",
   "metadata": {},
   "outputs": [],
   "source": [
    "def authorize(quote, **speaker_info):\n",
    "    print(\">\", quote)\n",
    "    print(\"-\" * (len(quote) + 2))\n",
    "    for key, value in speaker_info.items():\n",
    "        print(key, value, sep=': ')"
   ]
  },
  {
   "cell_type": "code",
   "execution_count": null,
   "id": "0799a112",
   "metadata": {},
   "outputs": [
    {
     "name": "stdout",
     "output_type": "stream",
     "text": [
      "> If music be the food of love, play on.\n",
      "----------------------------------------\n",
      "playwright: Shakespeare\n",
      "act: 1\n",
      "scene: 1\n",
      "speaker: Duke Orsino\n",
      "> O partigiano, portami via.\n",
      "----------------------------\n",
      "canzone: Bella Ciao\n",
      "lingua: Italiano\n"
     ]
    }
   ],
   "source": [
    "authorize(\n",
    "    \"If music be the food of love, play on.\",\n",
    "    playwright=\"Shakespeare\",\n",
    "    act=1,\n",
    "    scene=1,\n",
    "    speaker=\"Duke Orsino\"\n",
    ")\n",
    "# > If music be the food of love, play on.\n",
    "# ----------------------------------------\n",
    "# playwright: Shakespeare\n",
    "# act: 1\n",
    "# scene: 1\n",
    "# speaker: Duke Orsino\n",
    "authorize(\n",
    "    \"O partigiano, portami via.\",\n",
    "    canzone=\"Bella Ciao\",\n",
    "    lingua=\"Italiano\",\n",
    ")\n",
    "# > O partigiano, portami via.\n",
    "# ----------------------------\n",
    "# canzone: Bella Ciao\n",
    "# lingua: Italiano\n"
   ]
  },
  {
   "cell_type": "markdown",
   "id": "a4cc7ac5",
   "metadata": {},
   "source": [
    "This function captures a variable number of excess keyword-supplied arguments into a dictionary named speaker_info. It prints the quote, an underline, and then any key-value pairs from our dictionary. We've even made use of the fact that print takes a variable number of positionally-supplied arguments, and overridden the keyword-only parameter sep.\n",
    "\n",
    "As before, this works well if have several name-value associations that we want to directly insert as the arguments of a function call. But what happens if we have these would-be keyword arguments bundled up inside of a mapping instead? Suppose that we have a dictionary of information. Can we \"variadically unpack\" this collection into a variable number of keyword-supplied arguments? Yes.\n",
    "\n"
   ]
  },
  {
   "cell_type": "code",
   "execution_count": null,
   "id": "c88be12c",
   "metadata": {},
   "outputs": [
    {
     "name": "stdout",
     "output_type": "stream",
     "text": [
      "> Shall I compare thee to a summer's day\n",
      "----------------------------------------\n",
      "sonnet: 18\n",
      "line: 1\n",
      "author: Shakespeare\n"
     ]
    }
   ],
   "source": [
    "info = {\n",
    "    'sonnet': 18,\n",
    "    'line': 1,\n",
    "    'author': \"Shakespeare\"\n",
    "}\n",
    "authorize(\"Shall I compare thee to a summer's day\", **info)  \n",
    "# Does the same thing as authorize(\"Shall I compare thee to a summer's day\", sonnet=18, line=1, author='Shakespeare')\n",
    "# > Shall I compare thee to a summer's day\n",
    "# ----------------------------------------\n",
    "# sonnet: 18\n",
    "# line: 1\n",
    "# author: Shakespeare"
   ]
  },
  {
   "cell_type": "markdown",
   "id": "6581afba",
   "metadata": {},
   "source": [
    "### First-Class Function Basics\n",
    "\n",
    "Are Functions also Objects?\n",
    "So far, we've treated functions as abstract tools, disconnected from Python's usual name/object system. Are functions indeed fundamentally different from objects? For the answer, we turn to the interactive interpreter."
   ]
  },
  {
   "cell_type": "code",
   "execution_count": 4,
   "id": "8aa2e6e0",
   "metadata": {},
   "outputs": [
    {
     "name": "stdout",
     "output_type": "stream",
     "text": [
      "<function echo at 0x7f638a902d30>\n",
      "<function echo at 0x7f638a902d30>\n"
     ]
    },
    {
     "data": {
      "text/plain": [
       "True"
      ]
     },
     "execution_count": 4,
     "metadata": {},
     "output_type": "execute_result"
    }
   ],
   "source": [
    "def echo(arg):\n",
    "    return arg\n",
    "\n",
    "type(echo)     # <class 'function'>\n",
    "hex(id(echo))  # 0x1003c2bf8\n",
    "print(echo)    # <function echo at 0x1003c2bf8>\n",
    "\n",
    "foo = echo\n",
    "hex(id(foo))   # 0x1003c2bf8\n",
    "print(foo)     # <function echo at 0x1003c2bf8>\n",
    "\n",
    "'echo' in locals()\n",
    "\n",
    "isinstance(echo, object)  # => True"
   ]
  },
  {
   "cell_type": "markdown",
   "id": "1dfa0b07",
   "metadata": {},
   "source": [
    "Yes! Functions are objects too. Furthermore, there appear to be some attributes (such as a function's name) that tag along with the function object. Could this newfound observation have any... consequences?\n",
    "\n",
    "At the very least, this raises some questions:\n",
    "\n",
    "What can you do with function objects?\n",
    "What attributes does a function object possess?\n",
    "Can I pass a function as a parameters to other functions? Can a function return another function?\n",
    "How can I modify a function object?"
   ]
  },
  {
   "cell_type": "code",
   "execution_count": 5,
   "id": "43150ef1",
   "metadata": {},
   "outputs": [
    {
     "name": "stdout",
     "output_type": "stream",
     "text": [
      "echo\n",
      "Return the first argument.\n",
      "<code object echo at 0x7f638b7fe240, file \"/tmp/ipykernel_1128148/3075827281.py\", line 3>\n"
     ]
    }
   ],
   "source": [
    "#Let's look back at our example from before:\n",
    "\n",
    "def echo(arg):\n",
    "    \"\"\"Return the first argument.\"\"\"\n",
    "    return arg\n",
    "\n",
    "print(echo.__name__)  # => echo\n",
    "print(echo.__doc__)  # => Return the first argument.\n",
    "print(echo.__code__)  # => <code object echo at 0x..., file \"...\", line X>\n"
   ]
  },
  {
   "cell_type": "markdown",
   "id": "d91bd948",
   "metadata": {},
   "source": [
    "Among perhaps other attributes, a function object has: a .__name__ – the function's name, determined when the function object is created; a .__doc__ – the function's docstring, which serves as the function's documentation; and a .__code__ object – the actual object that makes up the code that tells Python how to execute this function.\n",
    "\n",
    "At the interactive interpreter, poke around the other attributes. Can you determine what they might mean?\n",
    "\n",
    "New Terms\n",
    "Term\tDefinition\n",
    "Function Objects\tA type of object in Python representing a callable function.\n",
    "The fn.__code__ attribute\tAn attribute of function objects that represents the function's code object.\n",
    "The fn.__doc__ attribute\tAn attribute of function objects that represents the function's documentation string.\n",
    "The fn.__name__ attribute\tAn attribute of function objects that represents the function's name."
   ]
  },
  {
   "cell_type": "markdown",
   "id": "71f8be3c",
   "metadata": {},
   "source": [
    "## Code Style\n",
    "When it comes to code style, everyone's got a slightly different opinion. When in doubt, ask your friends, coworkers, or managers.\n",
    "\n",
    "Usually, code style falls into a few categories:\n",
    "\n",
    "### Mechanics:\n",
    "The nitty-gritty details of formatting and layout that everyone expects. These are the specific \"rules,\" often found by an automated code linter that can warn you of any violations.\n",
    "In Python, this is often the domain of naming and spacing.\n",
    "### Standards\n",
    "A community-driven choice of one option from many.\n",
    "In Python, one such example is function documentation - \"docstrings.\" Although there are many possible formats in which to document a function, the Python community has settled on a standard structure, even if the details may differ.\n",
    "### Patterns:\n",
    "Design idioms and approaches made possible or impossible by the design of a language.\n",
    "Python, many tools are available to you, and many niceties are built into the language, so Python supports common idioms that aren't seen as often in other languages.\n",
    "### Python Style Guide\n",
    "Python's style guide is laid out formally in PEP 8, although Kenneth Reitz has a nicely laid out webpage of the same content. Even large companies will occasionally put together a style guide, with rules designed specifically for the particular corporate infrastructure. Google's style guide is a good example of this.\n",
    "\n",
    "Whatever you do, be consistent, and don't feel afraid to ask!\n",
    "\n",
    "In particular, function documentation is a good place to observe a standard. If you write the function:"
   ]
  },
  {
   "cell_type": "code",
   "execution_count": 8,
   "id": "3737009e",
   "metadata": {},
   "outputs": [],
   "source": [
    "def do_a_task(x):\n",
    "    \"\"\"Log the user into the system.\n",
    "\n",
    "    The user must already have a valid username.\n",
    "\n",
    "    :param x: The username.\n",
    "   \"\"\"\n",
    "pass"
   ]
  },
  {
   "cell_type": "markdown",
   "id": "953e5874",
   "metadata": {},
   "source": [
    "Python will attach the string literal it found as the first expression inside a function body as the function's docstring, attached at the __doc__ attribute and used by the built-in help tool and several automated documentation systems, such as autocomplete or GUI help menus.\n",
    "\n",
    "PEP 257 encodes Python's style guide for function documentation.\n",
    "\n",
    "New Terms\n",
    "Term\tDefinition\n",
    "PEP 257\tDocstring Conventions\n",
    "PEP 8\tStyle Guide for Python Code\n",
    "Further Reading\n",
    "Code Style (Python Guide): The Hitchhiker's Guide to Python Style Guide\n",
    "Intermezzo - Coding Style: The Python tutorial's commentary on coding style.\n",
    "PEP 257 - Docstring Conventions: The PEP standardizing docstring conventions in Python.\n",
    "PEP 8 - Style Guide for Python Code: Python's official style guide for Python code.\n",
    "Python Style Guide (Google): Google's Python style guide."
   ]
  },
  {
   "cell_type": "markdown",
   "id": "03c5254e",
   "metadata": {},
   "source": [
    "## A First Look at Functional Programming with map\n",
    "\n",
    "Map\n",
    "A common pattern in any programming language is to transform a collection by applying a function to each element. In a procedural-looking way:\n",
    "\n",
    "output = []\n",
    "for element in iterable:\n",
    "    val = function(element)\n",
    "    output.append(val)\n",
    "We can accomplish the same task in a declarative-looking way:\n",
    "\n",
    "output = [\n",
    "    function(element)\n",
    "    for element in iterable\n",
    "]\n",
    "For example, if we have languages = [\"python\", \"perl\", \"java\", \"c++\"], then [len(s) for s in languages] evaluates to [6, 4, 4, 3].\n",
    "\n",
    "But really, what are we even doing? We're just applying a function over a collection - it doesn't quite matter exactly how the collection is built up. In this case, Python provides us with a new function - the map function:\n",
    "\n",
    "map(fn, iter)\n",
    "The map function transforms a stream of data from an iterable and produces a stream of data by applying the function to each element. Interestingly, the first argument to map is a function object! This is the first time we've seen a function object be passed as an argument to another function.\n",
    "\n",
    "Practically, this means that Python lets us rewrite the above example to:\n",
    "\n",
    "map(len, languages)\n",
    "The map function doesn't actual produce a list, though. It returns an object which we can consume to get the transformed values – for example, we could see that:\n",
    "\n",
    "tuple(map(len, languages))  # => (6, 4, 4, 3)"
   ]
  },
  {
   "cell_type": "markdown",
   "id": "60fc4fc8",
   "metadata": {},
   "source": [
    "Filter\n",
    "Another common pattern in any programming language is to transform a collection by applying a function to each element. In a procedural-looking way:\n",
    "\n",
    "output = []\n",
    "for element in iterable:\n",
    "   if predicate(element):\n",
    "      output.append(element)\n",
    "We can accomplish the same task in a declarative-looking way:\n",
    "\n",
    "output = [\n",
    "  element\n",
    "  for element in iterable\n",
    "  if predicate(element)\n",
    "]\n",
    "If we wanted to find only the members from our rolodex, we might run:\n",
    "\n",
    "[client for client in rolodex if is_member(client)]\n",
    "But really, what are we even doing? We're just filtering the elements of a collection with a predicate function - it doesn't quite matter exactly how the collection is built up. In this case, Python provides us with another new function - the filter function:\n",
    "\n",
    "filter(predicate_function, iterable)\n",
    "The filter function filters only the elements from a stream of data that pass through a predicate function. As before, the first argument to filter is a function object!\n",
    "\n",
    "Practically, this means that Python lets us rewrite the above example to:\n",
    "\n",
    "filter(is_member, rolodex)\n",
    "As before, the filter function doesn't actual produce a list, though. It returns an object which we can consume to get the filtered values.\n",
    "\n"
   ]
  },
  {
   "cell_type": "markdown",
   "id": "3b2094ab",
   "metadata": {},
   "source": [
    "Map and Filter In Action\n",
    "Replay\n",
    "Mute\n",
    "Remaining Time -0:00\n",
    "1xPlayback RatePicture-in-Picture\n",
    "\n",
    "Fullscreen\n",
    "Aesthetics of map and filter\n",
    "Benefits\n",
    "\n",
    "Compute data-on-demand, don't buffer it.\n",
    "Faster than list comprehensions in some cases.\n",
    "Beauty?\n",
    "\n",
    "Up to you. An elegant functional reframing of the problem, or an unnecessary tool that's more pain than its worth?\n",
    "New Terms\n",
    "Term\tDefinition\n",
    "filter\tA built-in function that filters an iterable by keeping only elements that successfully pass a predicate function.\n",
    "map\tA built-in function that applies a function to every element of an iterable.\n",
    "Further Reading\n",
    "The built-in filter function: Python.org filter documentation\n",
    "The built-in map function: Python.org map documentation\n",
    "Learn Python's overview of map, filter, and reduce: Map, Filter, and Reduce (Learn Python)\n"
   ]
  },
  {
   "cell_type": "markdown",
   "id": "26d1a08b",
   "metadata": {},
   "source": [
    "Lambda Functions\n",
    "Lambda functions are introduced with the new syntax\n",
    "\n",
    "lambda params: expr(params)\n",
    "Lambda functions are used for simple callables that don't need to clutter the local namespace.\n",
    "Lambda functions are anonymous, on-the-fly functions that are used for simple callables that don't need to clutter the local namespace.\n",
    "\n",
    "In action,\n",
    "\n",
    "(lambda x: x > 3)(4)  # => True\n",
    "\n",
    "# Squares from 0**2 to 9**2\n",
    "map(lambda val: val ** 2, range(10))\n",
    "\n",
    "# Tuples with positive second elements\n",
    "filter(lambda pair: pair[1] > 0, [(4,1), (3, -2), (8,0)])\n",
    "\n",
    "# Sort a collection based on a custom function.\n",
    "sorted([(4,1), (3, -2), (8,0)], key=lambda pair: pair[1])\n",
    "\n",
    "\n",
    "New Terms\n",
    "Term\tDefinition\n",
    "lambda\tAn anonymous function used to define simple callables.\n",
    "Further Reading\n",
    "Lambda Expressions (Tutorial): The Python tutorial's overview of lambda expressions"
   ]
  },
  {
   "cell_type": "markdown",
   "id": "04a12c37",
   "metadata": {},
   "source": [
    "## Iterators\n",
    "An iterator represents a (finite or infinite) stream of data.\n",
    "\n",
    "The next(iter) call asks an iterator to yield a successive value. If there are no more values, it raises StopIteration. The iter(data) function produces an iterator from an iterable data source.\n",
    "\n",
    "Using Iterators\n",
    "You can build an iterator from data:\n",
    "\n",
    "# Build an iterator over [1,2,3]\n",
    "it = iter([1,2,3])\n",
    "next(it)  # => 1\n",
    "next(it)  # => 2\n",
    "next(it)  # => 3\n",
    "next(it)  # raises StopIteration error\n",
    "Iterators are fundamental to the language. The humble for loop is really using an iterator!\n",
    "\n",
    "for element in data:\n",
    "    process(element)\n",
    "\n",
    "# actually behaves like\n",
    "\n",
    "for element in iter(data):\n",
    "    process(element)\n",
    "Built-in functions can consume iterables:\n",
    "\n",
    "max(iterable)\n",
    "min(iterable)\n",
    "any(iterable)\n",
    "all(iterable)\n",
    "element in iterable\n",
    "Some built-in functions even produce iterables:\n",
    "\n",
    "range(stop)\n",
    "enumerate(iterable)\n",
    "zip(*iterables)\n",
    "map(fn, iterable)\n",
    "filter(pred, iterable)\n",
    "Iterators maintain some semblance of state:\n",
    "\n",
    "it = iter(range(100))\n",
    "66 in it\n",
    "next(it)  # => 67\n"
   ]
  },
  {
   "cell_type": "code",
   "execution_count": 10,
   "id": "35f99010",
   "metadata": {},
   "outputs": [
    {
     "name": "stdout",
     "output_type": "stream",
     "text": [
      "True\n",
      "True\n"
     ]
    }
   ],
   "source": [
    "nine_is_a_square_with_map = 9 in map(lambda x: x ** 2, range(1000000))\n",
    "nine_is_a_square_with_listcomp = 9 in [x ** 2 for x in range(1000000)]\n",
    "\n",
    "print(nine_is_a_square_with_map)\n",
    "print(nine_is_a_square_with_listcomp)"
   ]
  },
  {
   "cell_type": "code",
   "execution_count": null,
   "id": "691febf1",
   "metadata": {},
   "outputs": [],
   "source": []
  }
 ],
 "metadata": {
  "kernelspec": {
   "display_name": "Python 3 (ipykernel)",
   "language": "python",
   "name": "python3"
  },
  "language_info": {
   "codemirror_mode": {
    "name": "ipython",
    "version": 3
   },
   "file_extension": ".py",
   "mimetype": "text/x-python",
   "name": "python",
   "nbconvert_exporter": "python",
   "pygments_lexer": "ipython3",
   "version": "3.8.8"
  }
 },
 "nbformat": 4,
 "nbformat_minor": 5
}
