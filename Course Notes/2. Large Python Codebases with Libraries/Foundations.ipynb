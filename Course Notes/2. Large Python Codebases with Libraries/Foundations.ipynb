{
 "cells": [
  {
   "cell_type": "markdown",
   "id": "6d3ff43e",
   "metadata": {},
   "source": [
    "### Python Standard Library\n",
    "The core Python language is defined by the [Python Language Reference](https://docs.python.org/3/reference/index.html#reference-index). These features can be used in any scripts with no need to import other modules. They include basic functionality like simple datatypes for primitives (such as strings and integers) as well as basic sequences (like lists and tuples).\n",
    "\n",
    "The [Python Standard Library](https://docs.python.org/3/library/index.html#library-index) extends the functionality of the python language with many features that are commonly needed by programmers. These modules are \"built into\" Python, but they must be imported to the program when they're used. The array module is one of many examples of a built-in standard library module.\n",
    "\n",
    "### Why Do We Need to Import Anyway?\n",
    "You may be wondering why everything isn't included in the language reference. Why do we need to import specific modules rather than having everything simply available all the time?\n",
    "\n",
    "Let's think of an analogy. As we're practicing programming, there are fundamental concepts that we have memorized—for example, we remember how to call the print function, or assign a value to a variable. There are also more complex programming patterns that we might not use every day, but need to use once in a while—things like [regular expressions](https://en.wikipedia.org/wiki/Regular_expression), for example.\n",
    "\n",
    "Of course, there are costs and benefits to both of these strategies. Looking things up as we need them means that we don't need to spend as much time memorizing things we don't do very often. But on the other hand, some tools are so basic and frequently used that we want them to be immediately available to us. We might do a web search or refer to the documentation to refresh our memory on something, but this search takes time. It would be inefficient for us to look up every detail of programming, and it would be nearly impossible for us to memorize everything we don't always need.\n",
    "\n",
    "This is analogous to the situation with the Language Reference and the Standard Library. The Python developers made a decision about which fundamental features are most used and included these in the Language Reference so they're always available and efficient, while pushing other features out to the Standard Library.\n",
    "\n",
    "Of course, you may find that in your particular work you use certain features (that aren't included in the Language Reference) very often. The nice thing is that Python's import mechanics allow us to define our own modules and features and bind them dynamically at runtime. We'll get into this more later in the course.\n",
    "\n",
    "### Additional Resources\n",
    "If you're curious to learn more C, Python, and efficiency, you may want to check out the article, [Computer Programming Languages: Why C Runs So Much Faster Than Python](https://www.huffpost.com/entry/computer-programming-languages-why-c-runs-so-much_b_59af8178e4b0c50640cd632e)\n",
    "For more discussion on importing, you may want to read the Stack Overflow post, [Why Does Python Not Import Every Module at Startup Automatically?](https://stackoverflow.com/questions/21007255/why-does-python-not-import-every-module-at-startup-automatically)\n"
   ]
  },
  {
   "cell_type": "code",
   "execution_count": 32,
   "id": "eb1e1a27",
   "metadata": {},
   "outputs": [
    {
     "name": "stdout",
     "output_type": "stream",
     "text": [
      "Random Cat:  Whiskers\n"
     ]
    }
   ],
   "source": [
    "##my solution\n",
    "import random\n",
    "\n",
    "cat_string = \"--Whiskers--, --Spot--, --Meowmeow--, --Tiger--, --Kitty--, --Henry--, --Mr.Paws--\"\n",
    "\n",
    "def convert_string_to_list(string):\n",
    "    string_clean = string.replace('-', '') \n",
    "    new_list = list(string_clean.split(\", \"))\n",
    "    return new_list\n",
    "    \n",
    "def random_choice(list): \n",
    "    random_item = random.choice(list)\n",
    "    return random_item\n",
    "      \n",
    "def main():\n",
    "    cat_list = convert_string_to_list(cat_string)\n",
    "    random_cat = random_choice(cat_list) \n",
    "    print(\"Random Cat: \",random_cat)\n",
    "\n",
    "if __name__==\"__main__\":\n",
    "    main()"
   ]
  },
  {
   "cell_type": "code",
   "execution_count": 33,
   "id": "7d022ce1",
   "metadata": {},
   "outputs": [
    {
     "name": "stdout",
     "output_type": "stream",
     "text": [
      "Spot is a good kitty\n"
     ]
    }
   ],
   "source": [
    "#course solution\n",
    "import random\n",
    "\n",
    "cat_string = \"--Whiskers--, --Spot--, --Meowmeow--, --Tiger--, --Kitty--\"\n",
    "cat_list = cat_string.split(', ')\n",
    "cat_list = [cat.strip('--') for cat in cat_list]\n",
    "random_cat = random.choice(cat_list)\n",
    "\n",
    "print(f'{random_cat} is a good kitty')"
   ]
  },
  {
   "cell_type": "markdown",
   "id": "b51f7669",
   "metadata": {},
   "source": [
    "## Code Style\n",
    "### Why do we need to standardize styles?\n",
    "\n",
    "The [Python Enhancement Proposals (PEPs)](https://www.python.org/dev/peps/) are a set of guidelines that are driven by the community. They help Python developers understand key Python language decisions and implement uniform code. PEP-8 and PEP-20 are two of the more common proposals you'll encounter. They focus on style and implementation guidelines.\n",
    "\n",
    "\n",
    "The PEP 8 guidelines aren't just arbitrary rules—there are underlying reasons for each of the guidelines. You can often find interesting discussions of these underlying reasons on Stack Overflow, such as in [this post on why PEP 8 says you should indent with spaces rather than tabs.](https://stackoverflow.com/questions/120926/why-does-python-pep-8-strongly-recommend-spaces-over-tabs-for-indentation)\n",
    "\n",
    "Enforcing PEP 8 with linting\n",
    "PEP 8 has a lot of rules and chances are that you will forget many of them while you're developing. Thankfully, there are tools you can use to help you check your code for standardization and quality. These are called linters.\n",
    "\n",
    "A [linter](https://en.wikipedia.org/wiki/Lint_%28software%29) is a tool that checks the quality of your source code. Linters can check for a variety of errors, ranging from programmatic mistakes to stylistic issues.\n",
    "\n",
    "You'll often hear programmers talk about linting their code, which simply means that they are running a program (a linter) that scans the source code to help them detect any issues. You may wonder if this term has the same origin as the lint you find in a clothes dryer, and the answer is yes—the idea is that a linter helps you clean up all those undesirable bits of stuff that have been accumulating in your code.\n",
    "\n",
    "There are many different linters available, even just for Python alone. We'll try out one of them—called pycodestyle on the next page.\n",
    "\n",
    "Additional Resources\n",
    "[pep8.org](https://pep8.org/) – a human readable guide to the PEP 8 style conventions\n",
    "[What is linting?](https://stackoverflow.com/questions/8503559/what-is-linting) – an easy-to-read stackoverflow post\n",
    "[Linting Python in Visual Studio Code](https://code.visualstudio.com/docs/python/linting) – linting in Python allows us to spot style issues as we're developing\n",
    "[PEP20](https://www.python.org/dev/peps/pep-0020/) – The Zen of Python; these are classic Python principles in the form of 19 aphorisms. You can also view PEP20 via an easter egg by entering import this in the Python interpreter."
   ]
  },
  {
   "cell_type": "code",
   "execution_count": null,
   "id": "46186591",
   "metadata": {},
   "outputs": [],
   "source": []
  }
 ],
 "metadata": {
  "kernelspec": {
   "display_name": "Python 3 (ipykernel)",
   "language": "python",
   "name": "python3"
  },
  "language_info": {
   "codemirror_mode": {
    "name": "ipython",
    "version": 3
   },
   "file_extension": ".py",
   "mimetype": "text/x-python",
   "name": "python",
   "nbconvert_exporter": "python",
   "pygments_lexer": "ipython3",
   "version": "3.8.8"
  }
 },
 "nbformat": 4,
 "nbformat_minor": 5
}
