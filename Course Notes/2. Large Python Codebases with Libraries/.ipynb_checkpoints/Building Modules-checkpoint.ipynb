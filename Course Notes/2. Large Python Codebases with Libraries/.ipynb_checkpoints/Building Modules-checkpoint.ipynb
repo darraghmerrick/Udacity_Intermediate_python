{
 "cells": [
  {
   "cell_type": "markdown",
   "id": "ec10caa8",
   "metadata": {},
   "source": [
    "## Building Modules\n",
    "\n",
    "Lesson Outline\n",
    "In this lesson, we will:\n",
    "\n",
    "Learn how to create reusable and maintainable Python modules\n",
    "Expand our understanding of OOP to include abstraction and inheritance\n",
    "Practice critical design patterns for larger code bases\n",
    "\n",
    "\n",
    "### Importing Code\n",
    "We've previously explored how to import modules from the Python Standard Library. We'll now dig deeper into how Python imports work, and how you can make your codebase more modular and usable by creating modules of your own.\n",
    "\n",
    "In Python, the hierarchy of a module and it's member objects, methods, and variables is known as it's Fully Qualified Name. This concept allows us to use the \"dot\" notation to select which submodule we'd like to interact with (e.g. email.mime.text).\n",
    "\n",
    "Use the following code blocks to answer the question:\n",
    "\n",
    "Block A\n",
    "from random import randint\n",
    "randnum = randint(0, 5)\n",
    "Block B\n",
    "import random\n",
    "randnum = random.randint(0, 5)\n",
    "\n",
    "### The Basic Import Mechanism\n",
    "Let's get an overview of the basic import mechanism. (If this doesn't completely make sense right away, hang on—we'll get some hands-on practice with it on the next page.)\n",
    "\n",
    "When we use the import keyword, we're indicating to the Python interpreter that we'd like to bind a separate module of code to the current file. This is achieved in a few steps:\n",
    "\n",
    "Resolve the path and find the module. Python takes the given path and searches for a module with a matching name in its known set of locations (normally a directory called sys.path).\n",
    "Initialize the module via __init.py__. Python modules include a special file named __init__.py which contains some code to initialize the module (i.e. import module dependencies and bundle submodules). When the import keyword is run, the path to the module is resolved and then the corresponding __init__.py file is run. Watch for this in the upcoming exercise, where you'll be creating the __init__.py files yourself!\n",
    "Bind the module to a variable name. If the as keyword is used (e.g., from os import open as open_), the resolved module is bound to the specified variable name.\n",
    "After these three steps are complete, the module can then be used within the script.\n",
    "\n",
    "We will dig deeper into this mechanism as we continue to explore modules—this is just to give you a basic idea to start with.\n",
    "\n",
    "Multiple Imports\n",
    "Python allows us to combine multiple import statements into one import statement:\n",
    "\n",
    "import os, sys, random\n",
    "However, this is considered bad practice (see PEP-8) and it is preferred to import each module on its own line:\n",
    "\n",
    "import os\n",
    "import sys\n",
    "import random\n",
    "Furthermore, if we're partially importing from a specific module, it is considered good practice to use a multiple import statement for each submodule:\n",
    "\n",
    "from os import name, environ\n",
    "from sys import path\n",
    "from random import randrange, randint\n",
    "OK, but why should we follow these practices? The main underlying idea is to group together imports of a similar concept so that it is easy to glance at imports and find a particular relevant module or class. By following these simple rules, we have a consistent mental model if we want to add or change an import statment.\n",
    "\n",
    "For more information, check out the PEP-8 page on imports.\n",
    "\n",
    "Additional Resources:\n",
    "Python Import Documentation https://docs.python.org/3/reference/import.html\n",
    "Stack Overflow Discussion on Import https://stackoverflow.com/questions/9439480/from-import-vs-import\n",
    "\n",
    "\n"
   ]
  },
  {
   "cell_type": "markdown",
   "id": "f65331d9",
   "metadata": {},
   "source": [
    "### Understanding Code Imports\n",
    "In this exercise, Gabe will walk through the basics of creating and using modules in Python. You can follow along with him either here in this workspace or on your own computer.\n",
    "\n",
    "Note: You'll need to create some files and directories in this exercise. You can find (and open) any files you create by using the file browser in the upper left:\n",
    " \n",
    "screenshot showing the folder icon for the file browser\n",
    "\n",
    "When you create a new file (like when you run touch somefile.py), it may not show up right away in the file browser. If that's the case, just click the Refresh File List button:\n",
    "\n",
    "Screenshot showing the Refresh File List button\n",
    "\n",
    "### Try it!\n",
    "Be sure to try these things for yourself:\n",
    "\n",
    "Create a second file called aloha.py and move the say_hi function into it.\n",
    "Add the __init__.py file in the same directory as aloha.py.\n",
    "Import the say_hi method from aloha.py in your main.py file.\n",
    "Follow these same principles to create a second file adios.py containing a method, say_goodbye, that will print a goodbye message."
   ]
  },
  {
   "cell_type": "markdown",
   "id": "9f2dc674",
   "metadata": {},
   "source": [
    "#Directory contents\n",
    "__init__.py\n",
    "main.py\n",
    "aloha.py\n",
    "adios.py"
   ]
  },
  {
   "cell_type": "code",
   "execution_count": null,
   "id": "1b038865",
   "metadata": {},
   "outputs": [],
   "source": [
    "#aloha.py\n",
    "def say_hi():\n",
    "    print('hello')\n",
    "\n",
    "#adios.py    \n",
    "def say_goodbye():\n",
    "    print('byebye')\n",
    "    \n",
    "from aloha import say_hi\n",
    "from adios import say_goodbye\n",
    "\n",
    "say_hi()\n",
    "say_goodbye()"
   ]
  },
  {
   "cell_type": "markdown",
   "id": "06a7eddc",
   "metadata": {},
   "source": [
    "### Creating Your First Module\n",
    "\n",
    "\n",
    "Try it!\n",
    "Create a new directory called greetings.\n",
    "Move your aloha.py and adios.py files into the greetings directory.\n",
    "Create a new __init__.py file in the greetings directory.\n",
    "Use releative imports to add your say_hi and say_goodbye methods to greetings/__init__.py.\n",
    "\n",
    "Refactor main.py to use partial imports for say_hi and say_goodbye from the new greetings module.\n",
    "\n",
    "#Directory contents\n",
    "__init__.py\n",
    "main.py\n",
    "greetings/\n",
    "    __init__.py\n",
    "    aloha.py\n",
    "    adios.py"
   ]
  },
  {
   "cell_type": "code",
   "execution_count": null,
   "id": "cfa4aea6",
   "metadata": {},
   "outputs": [],
   "source": [
    "#greetings/__init__.py:\n",
    "from .aloha import say_hi\n",
    "from .adios import say_goodbye\n",
    "\n",
    "#main.py:\n",
    "from greetings import say_hi, say_goodbye\n",
    "\n",
    "say_hi()\n",
    "say_goodbye()"
   ]
  },
  {
   "cell_type": "markdown",
   "id": "c1e404fc",
   "metadata": {},
   "source": []
  }
 ],
 "metadata": {
  "kernelspec": {
   "display_name": "Python 3 (ipykernel)",
   "language": "python",
   "name": "python3"
  },
  "language_info": {
   "codemirror_mode": {
    "name": "ipython",
    "version": 3
   },
   "file_extension": ".py",
   "mimetype": "text/x-python",
   "name": "python",
   "nbconvert_exporter": "python",
   "pygments_lexer": "ipython3",
   "version": "3.8.8"
  }
 },
 "nbformat": 4,
 "nbformat_minor": 5
}
